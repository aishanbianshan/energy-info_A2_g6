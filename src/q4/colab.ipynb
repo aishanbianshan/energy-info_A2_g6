{
  "cells": [
    {
      "cell_type": "code",
      "execution_count": null,
      "id": "initial_id",
      "metadata": {
        "collapsed": true,
        "id": "initial_id"
      },
      "outputs": [],
      "source": [
        "!git clone https://github.com/aishanbianshan/energy-info_A2_g6/"
      ]
    },
    {
      "cell_type": "code",
      "execution_count": null,
      "outputs": [],
      "source": [
        "!git pull"
      ],
      "metadata": {
        "id": "e120b457d84ab17f"
      },
      "id": "e120b457d84ab17f"
    },
    {
      "cell_type": "code",
      "execution_count": null,
      "outputs": [],
      "source": [
        "#installs\n",
        "!pip install keras"
      ],
      "metadata": {
        "id": "cdb818c080efbf4c"
      },
      "id": "cdb818c080efbf4c"
    },
    {
      "cell_type": "code",
      "execution_count": null,
      "outputs": [],
      "source": [
        "%cd /content/energy-info_A2_g6/"
      ],
      "metadata": {
        "id": "94f5a666ac50ff56"
      },
      "id": "94f5a666ac50ff56"
    },
    {
      "cell_type": "code",
      "execution_count": 1,
      "outputs": [],
      "source": [
        "#imports\n",
        "import keras\n",
        "import pandas"
      ],
      "metadata": {
        "id": "dffdbbc1147dc986"
      },
      "id": "dffdbbc1147dc986"
    }
  ],
  "metadata": {
    "kernelspec": {
      "display_name": "Python 3",
      "language": "python",
      "name": "python3"
    },
    "language_info": {
      "codemirror_mode": {
        "name": "ipython",
        "version": 2
      },
      "file_extension": ".py",
      "mimetype": "text/x-python",
      "name": "python",
      "nbconvert_exporter": "python",
      "pygments_lexer": "ipython2",
      "version": "2.7.6"
    },
    "colab": {
      "provenance": [],
      "toc_visible": true
    }
  },
  "nbformat": 4,
  "nbformat_minor": 5
}